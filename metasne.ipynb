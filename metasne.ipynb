{
 "cells": [
  {
   "cell_type": "markdown",
   "metadata": {},
   "source": [
    "# Meta-SNE"
   ]
  },
  {
   "cell_type": "code",
   "execution_count": 1,
   "metadata": {
    "collapsed": true
   },
   "outputs": [],
   "source": [
    "import numpy as np\n",
    "import matplotlib.pyplot as plt\n",
    "\n",
    "from sklearn.manifold import TSNE\n",
    "from os import listdir\n",
    "\n",
    "%matplotlib inline\n",
    "plt.rcParams['figure.figsize'] = (5.0, 4.0) # set default size of plots\n",
    "plt.rcParams['image.interpolation'] = 'nearest'\n",
    "\n",
    "representations = np.load('representations2.npy')\n",
    "# lengths = np.load('lengths.npy')\n",
    "names = np.load('names2.npy')"
   ]
  },
  {
   "cell_type": "code",
   "execution_count": 2,
   "metadata": {
    "collapsed": false
   },
   "outputs": [],
   "source": [
    "# representations = np.append(representations, np.zeros((1,4950)) + (1/np.sqrt(4950)), axis=0)\n",
    "# lengths = np.append(lengths, lengths[-1] + 1)\n",
    "# names = np.append(names, 'true representation')"
   ]
  },
  {
   "cell_type": "code",
   "execution_count": 42,
   "metadata": {
    "collapsed": false
   },
   "outputs": [
    {
     "name": "stdout",
     "output_type": "stream",
     "text": [
      "(44, 4950)\n",
      "[t-SNE] Computing pairwise distances...\n",
      "[t-SNE] Computed conditional probabilities for sample 44 / 44\n",
      "[t-SNE] Mean sigma: 6.891801\n",
      "[t-SNE] KL divergence after 250 iterations with early exaggeration: 67.863484\n",
      "[t-SNE] Error after 7200 iterations: 0.253949\n"
     ]
    }
   ],
   "source": [
    "print(representations.shape)\n",
    "embedded = TSNE(n_components=2, verbose=1, perplexity=12, learning_rate=300, n_iter=15000, method='exact', init='pca').fit_transform(representations)\n",
    "# print(embedded)"
   ]
  },
  {
   "cell_type": "code",
   "execution_count": 43,
   "metadata": {
    "collapsed": false
   },
   "outputs": [
    {
     "name": "stdout",
     "output_type": "stream",
     "text": [
      "[   0    0    0    0  500  500  500  500 1000 1000 1000 1000 1500 1500 1500\n",
      " 1500 2000 2000 2000 2000 2500 2500 2500 2500 3000 3000 3000 3000 3500 3500\n",
      " 3500 3500 4000 4000 4000 4000 4500 4500 4500 4500 5000 5000 5000 5000]\n"
     ]
    },
    {
     "data": {
      "image/png": "[encoded data removed]",
      "text/plain": [
       "<matplotlib.figure.Figure at 0x7f5b47c44e80>"
      ]
     },
     "metadata": {},
     "output_type": "display_data"
    }
   ],
   "source": [
    "# def color(name):\n",
    "#     if 'block1' in name:\n",
    "#         return 'red'\n",
    "#     elif 'block2' in name:\n",
    "#         return 'blue'\n",
    "#     elif 'block3' in name:\n",
    "#         return 'green'\n",
    "#     elif 'block4' in name:\n",
    "#         return 'purple'\n",
    "#     else:\n",
    "#         return 'black'\n",
    "    \n",
    "# colors = [color(name) for name in fileNames]\n",
    "\n",
    "# colors = ['red' for _ in range(lengths[0])] + ['blue' for _ in range(lengths[1])] + \n",
    "# ['green' for _ in range(lengths[2])] + ['purple' for _ in range(lengths[3])]\n",
    "\n",
    "# nets = ['squeezenet/', 'vgg/', 'alexnet/', 'resnet/', 'densenet/']\n",
    "# colors = ['yellow', 'red', 'blue', 'green', 'purple', 'black']\n",
    "\n",
    "X, Y = embedded[:,0], embedded[:,1]\n",
    "# for i in range(6):\n",
    "#     plt.scatter(X[lengths[i]:lengths[i+1]], Y[lengths[i]:lengths[i+1]], c=colors[i])\n",
    "# for i in range(len(X)):\n",
    "#     print(i)\n",
    "#     plt.annotate(str(names[i]), (X[i],Y[i]), clip_on=True)\n",
    "# plt.show()\n",
    "\n",
    "# colors = [np.array([0,1,2,3])*500 for i in range(11)]\n",
    "# colors = np.stack([np.arange(11)*500 for _ in range(4)]).T\n",
    "# print(colors)\n",
    "# for i in range(11):\n",
    "#     plt.scatter(X[4*i:4*(i+1)], Y[4*i:4*(i+1)], c=colors[i])\n",
    "#     print(colors[i])\n",
    "\n",
    "colors = np.concatenate([[i*500 for _ in range(4)] for i in range(11)])\n",
    "print(colors)\n",
    "\n",
    "plt.scatter(X,Y,c=colors)\n",
    "plt.colorbar(label='# of iterations')\n",
    "plt.show()"
   ]
  },
  {
   "cell_type": "code",
   "execution_count": 44,
   "metadata": {
    "collapsed": false
   },
   "outputs": [
    {
     "data": {
      "text/plain": [
       "array([[ -664.73822021,   357.3013916 ],\n",
       "       [ -341.57440186,  -113.96689606],\n",
       "       [  911.55804443,   744.402771  ],\n",
       "       [ -178.66889954, -1011.55224609],\n",
       "       [ -618.80297852,   525.09393311],\n",
       "       [ -228.68238831,  -238.30459595],\n",
       "       [  870.83154297,   651.16278076],\n",
       "       [ -289.27108765, -1233.37585449],\n",
       "       [ -593.0725708 ,   423.02185059],\n",
       "       [ -264.57952881,  -155.33091736],\n",
       "       [  827.62585449,   842.02386475],\n",
       "       [ -171.31025696, -1123.21533203],\n",
       "       [ -755.29058838,   492.37432861],\n",
       "       [ -176.30944824,   -52.87625504],\n",
       "       [  635.13934326,   690.41992188],\n",
       "       [ -194.11715698, -1209.15686035],\n",
       "       [ -846.16424561,   471.1394043 ],\n",
       "       [ -173.34594727,  -147.84860229],\n",
       "       [  780.73321533,   671.97924805],\n",
       "       [ -112.20907593, -1190.32629395],\n",
       "       [ -837.92108154,   375.98373413],\n",
       "       [ -251.18701172,    19.28596115],\n",
       "       [  720.64971924,   727.27716064],\n",
       "       [  -89.8868103 , -1089.67480469],\n",
       "       [ -806.94873047,   566.30957031],\n",
       "       [ -411.81924438,  -172.47337341],\n",
       "       [  699.64672852,   624.6315918 ],\n",
       "       [ -122.51993561, -1283.41772461],\n",
       "       [ -751.75579834,   407.50396729],\n",
       "       [ -265.92791748,   -70.85372162],\n",
       "       [  810.9887085 ,   750.03405762],\n",
       "       [ -208.80401611, -1298.66687012],\n",
       "       [ -703.43634033,   569.35888672],\n",
       "       [ -420.57958984,   -67.75602722],\n",
       "       [  737.68682861,   817.83270264],\n",
       "       [  -27.83276367, -1156.44262695],\n",
       "       [ -678.84362793,   455.83706665],\n",
       "       [ -330.25231934,  -222.34255981],\n",
       "       [  787.97479248,   584.15942383],\n",
       "       [ -257.72784424, -1132.91137695],\n",
       "       [ -752.13165283,   315.6590271 ],\n",
       "       [ -343.16326904,   -11.52600574],\n",
       "       [  650.84417725,   787.96398926],\n",
       "       [  -40.06442642, -1250.85681152]], dtype=float32)"
      ]
     },
     "execution_count": 44,
     "metadata": {},
     "output_type": "execute_result"
    }
   ],
   "source": [
    "embedded"
   ]
  },
  {
   "cell_type": "code",
   "execution_count": null,
   "metadata": {
    "collapsed": true
   },
   "outputs": [],
   "source": []
  },
  {
   "cell_type": "code",
   "execution_count": null,
   "metadata": {
    "collapsed": true
   },
   "outputs": [],
   "source": []
  }
 ],
 "metadata": {
  "kernelspec": {
   "display_name": "Python 3",
   "language": "python",
   "name": "python3"
  },
  "language_info": {
   "codemirror_mode": {
    "name": "ipython",
    "version": 3
   },
   "file_extension": ".py",
   "mimetype": "text/x-python",
   "name": "python",
   "nbconvert_exporter": "python",
   "pygments_lexer": "ipython3",
   "version": "3.5.2"
  }
 },
 "nbformat": 4,
 "nbformat_minor": 0
}
