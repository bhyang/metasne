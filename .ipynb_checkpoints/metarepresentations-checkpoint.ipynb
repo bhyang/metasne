{
 "cells": [
  {
   "cell_type": "markdown",
   "metadata": {},
   "source": [
    "# meta-SNE"
   ]
  },
  {
   "cell_type": "code",
   "execution_count": 1,
   "metadata": {
    "collapsed": false
   },
   "outputs": [],
   "source": [
    "import numpy as np\n",
    "# from scipy.spatial.distance import euclidean as distance\n",
    "from os import listdir\n",
    "import gc"
   ]
  },
  {
   "cell_type": "code",
   "execution_count": 2,
   "metadata": {
    "collapsed": false
   },
   "outputs": [
    {
     "name": "stdout",
     "output_type": "stream",
     "text": [
      "=========0/=========\n",
      "Generating features0.npy\n",
      "Generating features3.npy\n",
      "Generating features6.npy\n",
      "Generating features8.npy\n",
      "=========500/=========\n",
      "Generating features0.npy\n",
      "Generating features3.npy\n",
      "Generating features6.npy\n",
      "Generating features8.npy\n",
      "=========1000/=========\n",
      "Generating features0.npy\n",
      "Generating features3.npy\n",
      "Generating features6.npy\n",
      "Generating features8.npy\n",
      "=========1500/=========\n",
      "Generating features0.npy\n",
      "Generating features3.npy\n",
      "Generating features6.npy\n",
      "Generating features8.npy\n",
      "=========2000/=========\n",
      "Generating features0.npy\n",
      "Generating features3.npy\n",
      "Generating features6.npy\n",
      "Generating features8.npy\n",
      "=========2500/=========\n",
      "Generating features0.npy\n",
      "Generating features3.npy\n",
      "Generating features6.npy\n",
      "Generating features8.npy\n",
      "=========3000/=========\n",
      "Generating features0.npy\n",
      "Generating features3.npy\n",
      "Generating features6.npy\n",
      "Generating features8.npy\n",
      "=========3500/=========\n",
      "Generating features0.npy\n",
      "Generating features3.npy\n",
      "Generating features6.npy\n",
      "Generating features8.npy\n",
      "=========4000/=========\n",
      "Generating features0.npy\n",
      "Generating features3.npy\n",
      "Generating features6.npy\n",
      "Generating features8.npy\n",
      "=========4500/=========\n",
      "Generating features0.npy\n",
      "Generating features3.npy\n",
      "Generating features6.npy\n",
      "Generating features8.npy\n",
      "=========5000/=========\n",
      "Generating features0.npy\n",
      "Generating features3.npy\n",
      "Generating features6.npy\n",
      "Generating features8.npy\n"
     ]
    }
   ],
   "source": [
    "def distanceMatrix(outputs):\n",
    "    '''\n",
    "    outputs -- ordered list of representations for all images\n",
    "    '''\n",
    "    distances = []\n",
    "    for i in range(100):\n",
    "        for j in range(i+1, 100):\n",
    "#             dist = distance(outputs[i], outputs[j])\n",
    "            dist = np.linalg.norm(outputs[i] - outputs[j])\n",
    "            distances.append(dist)\n",
    "    return distances\n",
    "\n",
    "# net = 'vgg/'\n",
    "nets = ['0/','500/','1000/','1500/','2000/','2500/','3000/','3500/','4000/','4500/','5000/']\n",
    "# lengths = []\n",
    "names = []\n",
    "\n",
    "representations = []\n",
    "for net in nets:\n",
    "    print('=========' + net + '=========')\n",
    "    fileNames = ['features0.npy','features3.npy','features6.npy','features8.npy']\n",
    "#     fileNames = ['activation_data/training/' + net + o for o in ordered]\n",
    "\n",
    "#     def filterNames(names):\n",
    "#         filtered = []\n",
    "#         for name in names:\n",
    "#             if 'fc' not in name:\n",
    "#                 filtered.append(name)\n",
    "#         return filtered\n",
    "\n",
    "    # fileNames = filterNames(fileNames)\n",
    "\n",
    "    counter = 0\n",
    "    for name in fileNames:\n",
    "        if '10' not in name:\n",
    "            print('Generating ' + name)\n",
    "            representations.append(distanceMatrix(np.load('activation_data/training/' + net + name).flatten()))\n",
    "            names.append(name)\n",
    "            gc.collect()\n",
    "            counter += 1\n",
    "#     lengths.append(counter)\n",
    "\n",
    "# lengths[1] = lengths[1] + lengths[0]\n",
    "# lengths[2] = lengths[2] + lengths[1]\n",
    "# lengths[3] = lengths[3] + lengths[2]\n",
    "# lengths.insert(0, 0)\n",
    "    \n",
    "representations = np.stack(representations)\n",
    "normalizedReps = []\n",
    "actualNames = []\n",
    "for i in range(len(representations)):\n",
    "    r = representations[i]\n",
    "    norm = np.linalg.norm(r)\n",
    "    if norm == 0:\n",
    "        print('ignoring 0 norm')\n",
    "        print(i)\n",
    "        print(r)\n",
    "        \n",
    "    else:\n",
    "        actualNames.append(names[i])\n",
    "        normalizedReps.append(r / (norm ** .5))\n",
    "representations = normalizedReps\n",
    "\n",
    "# for r in representations:\n",
    "#     print(r)"
   ]
  },
  {
   "cell_type": "code",
   "execution_count": 3,
   "metadata": {
    "collapsed": false
   },
   "outputs": [],
   "source": [
    "np.save('representations2', np.stack(representations))"
   ]
  },
  {
   "cell_type": "code",
   "execution_count": 4,
   "metadata": {
    "collapsed": false
   },
   "outputs": [],
   "source": [
    "# np.save('lengths2', lengths)"
   ]
  },
  {
   "cell_type": "code",
   "execution_count": 5,
   "metadata": {
    "collapsed": true
   },
   "outputs": [],
   "source": [
    "np.save('names2', actualNames)"
   ]
  },
  {
   "cell_type": "code",
   "execution_count": 6,
   "metadata": {
    "collapsed": false
   },
   "outputs": [
    {
     "name": "stdout",
     "output_type": "stream",
     "text": [
      "44\n",
      "44\n"
     ]
    }
   ],
   "source": [
    "print(len(actualNames))\n",
    "print(len(representations))"
   ]
  },
  {
   "cell_type": "code",
   "execution_count": null,
   "metadata": {
    "collapsed": true
   },
   "outputs": [],
   "source": []
  }
 ],
 "metadata": {
  "kernelspec": {
   "display_name": "Python 3",
   "language": "python",
   "name": "python3"
  },
  "language_info": {
   "codemirror_mode": {
    "name": "ipython",
    "version": 3
   },
   "file_extension": ".py",
   "mimetype": "text/x-python",
   "name": "python",
   "nbconvert_exporter": "python",
   "pygments_lexer": "ipython3",
   "version": "3.5.2"
  }
 },
 "nbformat": 4,
 "nbformat_minor": 0
}
