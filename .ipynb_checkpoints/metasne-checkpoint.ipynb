{
 "cells": [
  {
   "cell_type": "markdown",
   "metadata": {},
   "source": [
    "# Meta-SNE"
   ]
  },
  {
   "cell_type": "code",
   "execution_count": 1,
   "metadata": {
    "collapsed": true
   },
   "outputs": [],
   "source": [
    "import numpy as np\n",
    "import matplotlib.pyplot as plt\n",
    "\n",
    "from sklearn.manifold import TSNE\n",
    "from os import listdir\n",
    "\n",
    "%matplotlib inline\n",
    "plt.rcParams['figure.figsize'] = (5.0, 4.0) # set default size of plots\n",
    "plt.rcParams['image.interpolation'] = 'nearest'\n",
    "\n",
    "representations = np.load('representations2.npy')\n",
    "# lengths = np.load('lengths.npy')\n",
    "names = np.load('names2.npy')"
   ]
  },
  {
   "cell_type": "code",
   "execution_count": 2,
   "metadata": {
    "collapsed": false
   },
   "outputs": [],
   "source": [
    "# representations = np.append(representations, np.zeros((1,4950)) + (1/np.sqrt(4950)), axis=0)\n",
    "# lengths = np.append(lengths, lengths[-1] + 1)\n",
    "# names = np.append(names, 'true representation')"
   ]
  },
  {
   "cell_type": "code",
   "execution_count": 39,
   "metadata": {
    "collapsed": false
   },
   "outputs": [
    {
     "name": "stdout",
     "output_type": "stream",
     "text": [
      "(44, 4950)\n",
      "[t-SNE] Computing pairwise distances...\n",
      "[t-SNE] Computed conditional probabilities for sample 44 / 44\n",
      "[t-SNE] Mean sigma: 0.021933\n",
      "[t-SNE] KL divergence after 250 iterations with early exaggeration: 88.404904\n",
      "[t-SNE] Error after 2200 iterations: 0.150785\n"
     ]
    }
   ],
   "source": [
    "print(representations.shape)\n",
    "embedded = TSNE(n_components=2, verbose=1, perplexity=12, learning_rate=300, n_iter=15000, method='exact', init='pca').fit_transform(representations)\n",
    "# print(embedded)"
   ]
  },
  {
   "cell_type": "code",
   "execution_count": 41,
   "metadata": {
    "collapsed": false
   },
   "outputs": [
    {
     "name": "stdout",
     "output_type": "stream",
     "text": [
      "[   0    0    0    0  500  500  500  500 1000 1000 1000 1000 1500 1500 1500\n",
      " 1500 2000 2000 2000 2000 2500 2500 2500 2500 3000 3000 3000 3000 3500 3500\n",
      " 3500 3500 4000 4000 4000 4000 4500 4500 4500 4500 5000 5000 5000 5000]\n"
     ]
    },
    {
     "data": {
      "image/png": "[encoded data removed]",
      "text/plain": [
       "<matplotlib.figure.Figure at 0x7f5b47ef5eb8>"
      ]
     },
     "metadata": {},
     "output_type": "display_data"
    }
   ],
   "source": [
    "# def color(name):\n",
    "#     if 'block1' in name:\n",
    "#         return 'red'\n",
    "#     elif 'block2' in name:\n",
    "#         return 'blue'\n",
    "#     elif 'block3' in name:\n",
    "#         return 'green'\n",
    "#     elif 'block4' in name:\n",
    "#         return 'purple'\n",
    "#     else:\n",
    "#         return 'black'\n",
    "    \n",
    "# colors = [color(name) for name in fileNames]\n",
    "\n",
    "# colors = ['red' for _ in range(lengths[0])] + ['blue' for _ in range(lengths[1])] + \n",
    "# ['green' for _ in range(lengths[2])] + ['purple' for _ in range(lengths[3])]\n",
    "\n",
    "# nets = ['squeezenet/', 'vgg/', 'alexnet/', 'resnet/', 'densenet/']\n",
    "# colors = ['yellow', 'red', 'blue', 'green', 'purple', 'black']\n",
    "\n",
    "X, Y = embedded[:,0], embedded[:,1]\n",
    "# for i in range(6):\n",
    "#     plt.scatter(X[lengths[i]:lengths[i+1]], Y[lengths[i]:lengths[i+1]], c=colors[i])\n",
    "# for i in range(len(X)):\n",
    "#     print(i)\n",
    "#     plt.annotate(str(names[i]), (X[i],Y[i]), clip_on=True)\n",
    "# plt.show()\n",
    "\n",
    "# colors = [np.array([0,1,2,3])*500 for i in range(11)]\n",
    "# colors = np.stack([np.arange(11)*500 for _ in range(4)]).T\n",
    "# print(colors)\n",
    "# for i in range(11):\n",
    "#     plt.scatter(X[4*i:4*(i+1)], Y[4*i:4*(i+1)], c=colors[i])\n",
    "#     print(colors[i])\n",
    "\n",
    "colors = np.concatenate([[i*500 for _ in range(4)] for i in range(11)])\n",
    "print(colors)\n",
    "\n",
    "plt.scatter(X,Y,c=colors)\n",
    "plt.colorbar(label='# of iterations')\n",
    "plt.show()"
   ]
  },
  {
   "cell_type": "code",
   "execution_count": 28,
   "metadata": {
    "collapsed": false
   },
   "outputs": [
    {
     "data": {
      "text/plain": [
       "array([[ 510.27124023,  282.88851929],\n",
       "       [ 375.38525391,  165.54920959],\n",
       "       [-257.83227539, -435.94177246],\n",
       "       [-255.75341797, -255.96299744],\n",
       "       [-212.53039551,  -66.02750397],\n",
       "       [  60.99622345,  316.56750488],\n",
       "       [  74.61732483, -156.25111389],\n",
       "       [  12.52919483,  -14.1985302 ],\n",
       "       [ 129.39151001,  120.35006714],\n",
       "       [ -38.68518066,  130.29660034],\n",
       "       [ 190.34284973,  -23.60938072]], dtype=float32)"
      ]
     },
     "execution_count": 28,
     "metadata": {},
     "output_type": "execute_result"
    }
   ],
   "source": [
    "embedded"
   ]
  },
  {
   "cell_type": "code",
   "execution_count": null,
   "metadata": {
    "collapsed": true
   },
   "outputs": [],
   "source": []
  }
 ],
 "metadata": {
  "kernelspec": {
   "display_name": "Python 3",
   "language": "python",
   "name": "python3"
  },
  "language_info": {
   "codemirror_mode": {
    "name": "ipython",
    "version": 3
   },
   "file_extension": ".py",
   "mimetype": "text/x-python",
   "name": "python",
   "nbconvert_exporter": "python",
   "pygments_lexer": "ipython3",
   "version": "3.5.2"
  }
 },
 "nbformat": 4,
 "nbformat_minor": 0
}
